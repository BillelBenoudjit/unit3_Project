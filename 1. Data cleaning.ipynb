{
 "cells": [
  {
   "cell_type": "markdown",
   "id": "b5349838",
   "metadata": {},
   "source": [
    "<img src=\"Logo.png\" width=\"100\" align=\"left\"/> \n",
    "\n",
    "# <center> Unit 3 Project </center>\n",
    "#  <center> First section : Data cleaning  </center>\n",
    "\n",
    "In this notebook you will be cleaning your dataset and making sure it's fully ready for modeling.\n",
    "\n",
    "The used dataset is [Hepatitis C  dataset](https://www.kaggle.com/fedesoriano/hepatitis-c-dataset)"
   ]
  },
  {
   "cell_type": "markdown",
   "id": "c3a880ce",
   "metadata": {},
   "source": [
    "## Data preparation \n",
    "As a first step we need to prepare the data :\n",
    "\n",
    "1. Read the data set as a data frame ( file name is HepatitisCdata.csv) \n",
    "2. The here are the column of your dataset:\n",
    "    1) X (Patient ID/No.)\n",
    "    2) Category (diagnosis) (values: '0=Blood Donor', '0s=suspect Blood Donor', '1=Hepatitis', '2=Fibrosis', '3=Cirrhosis') ( the target ) \n",
    "    3) Age (in years)\n",
    "    4) Sex (f,m)\n",
    "    Attributes 5 to 14 refer to laboratory data:\n",
    "    5) ALB : Albumin Blood Test\n",
    "    6) ALP : Alkaline phosphatase\n",
    "    7) ALT : Alanine Transaminase\n",
    "    8) AST : Aspartate Transaminase\n",
    "    9) BIL : Bilirubin\n",
    "    10) CHE : Acetylcholinesterase\n",
    "    11) CHOL : Cholesterol\n",
    "    12) CREA : Creatinine \n",
    "    13) GGT : Gamma-Glutamyl Transferase\n",
    "    14) PROT : Proteins\n",
    "    \n",
    "3. Remember your model only accepts numbers so make sure you deal properly with the missing values and the data types and justify your solution choices \n",
    " \n",
    "4. Make sure the dataset shape in the end is : rows 615 and  14 columns \n",
    " \n",
    "5. Once finished save the cleaned dataset as \"clean_HepatitisC.csv\" file \n",
    " "
   ]
  },
  {
   "cell_type": "code",
   "execution_count": 33,
   "id": "7ef3a82c",
   "metadata": {},
   "outputs": [],
   "source": [
    "import pandas as pd \n",
    "import numpy as np"
   ]
  },
  {
   "cell_type": "code",
   "execution_count": 34,
   "id": "b75c3ac8",
   "metadata": {},
   "outputs": [],
   "source": [
    "#To-Do: read the dataset \n",
    "data = pd.read_csv(\"HepatitisCdata.csv\")"
   ]
  },
  {
   "cell_type": "code",
   "execution_count": 35,
   "id": "690a3bdc",
   "metadata": {
    "scrolled": true
   },
   "outputs": [
    {
     "data": {
      "text/html": [
       "<div>\n",
       "<style scoped>\n",
       "    .dataframe tbody tr th:only-of-type {\n",
       "        vertical-align: middle;\n",
       "    }\n",
       "\n",
       "    .dataframe tbody tr th {\n",
       "        vertical-align: top;\n",
       "    }\n",
       "\n",
       "    .dataframe thead th {\n",
       "        text-align: right;\n",
       "    }\n",
       "</style>\n",
       "<table border=\"1\" class=\"dataframe\">\n",
       "  <thead>\n",
       "    <tr style=\"text-align: right;\">\n",
       "      <th></th>\n",
       "      <th>Unnamed: 0</th>\n",
       "      <th>Category</th>\n",
       "      <th>Age</th>\n",
       "      <th>Sex</th>\n",
       "      <th>ALB</th>\n",
       "      <th>ALP</th>\n",
       "      <th>ALT</th>\n",
       "      <th>AST</th>\n",
       "      <th>BIL</th>\n",
       "      <th>CHE</th>\n",
       "      <th>CHOL</th>\n",
       "      <th>CREA</th>\n",
       "      <th>GGT</th>\n",
       "      <th>PROT</th>\n",
       "    </tr>\n",
       "  </thead>\n",
       "  <tbody>\n",
       "    <tr>\n",
       "      <th>0</th>\n",
       "      <td>1</td>\n",
       "      <td>0=Blood Donor</td>\n",
       "      <td>32</td>\n",
       "      <td>m</td>\n",
       "      <td>38.5</td>\n",
       "      <td>52.5</td>\n",
       "      <td>7.7</td>\n",
       "      <td>22.1</td>\n",
       "      <td>7.5</td>\n",
       "      <td>6.93</td>\n",
       "      <td>3.23</td>\n",
       "      <td>106.0</td>\n",
       "      <td>12.1</td>\n",
       "      <td>69.0</td>\n",
       "    </tr>\n",
       "    <tr>\n",
       "      <th>1</th>\n",
       "      <td>2</td>\n",
       "      <td>0=Blood Donor</td>\n",
       "      <td>32</td>\n",
       "      <td>m</td>\n",
       "      <td>38.5</td>\n",
       "      <td>70.3</td>\n",
       "      <td>18.0</td>\n",
       "      <td>24.7</td>\n",
       "      <td>3.9</td>\n",
       "      <td>11.17</td>\n",
       "      <td>4.80</td>\n",
       "      <td>74.0</td>\n",
       "      <td>15.6</td>\n",
       "      <td>76.5</td>\n",
       "    </tr>\n",
       "    <tr>\n",
       "      <th>2</th>\n",
       "      <td>3</td>\n",
       "      <td>0=Blood Donor</td>\n",
       "      <td>32</td>\n",
       "      <td>m</td>\n",
       "      <td>46.9</td>\n",
       "      <td>74.7</td>\n",
       "      <td>36.2</td>\n",
       "      <td>52.6</td>\n",
       "      <td>6.1</td>\n",
       "      <td>8.84</td>\n",
       "      <td>5.20</td>\n",
       "      <td>86.0</td>\n",
       "      <td>33.2</td>\n",
       "      <td>79.3</td>\n",
       "    </tr>\n",
       "    <tr>\n",
       "      <th>3</th>\n",
       "      <td>4</td>\n",
       "      <td>0=Blood Donor</td>\n",
       "      <td>32</td>\n",
       "      <td>m</td>\n",
       "      <td>43.2</td>\n",
       "      <td>52.0</td>\n",
       "      <td>30.6</td>\n",
       "      <td>22.6</td>\n",
       "      <td>18.9</td>\n",
       "      <td>7.33</td>\n",
       "      <td>4.74</td>\n",
       "      <td>80.0</td>\n",
       "      <td>33.8</td>\n",
       "      <td>75.7</td>\n",
       "    </tr>\n",
       "    <tr>\n",
       "      <th>4</th>\n",
       "      <td>5</td>\n",
       "      <td>0=Blood Donor</td>\n",
       "      <td>32</td>\n",
       "      <td>m</td>\n",
       "      <td>39.2</td>\n",
       "      <td>74.1</td>\n",
       "      <td>32.6</td>\n",
       "      <td>24.8</td>\n",
       "      <td>9.6</td>\n",
       "      <td>9.15</td>\n",
       "      <td>4.32</td>\n",
       "      <td>76.0</td>\n",
       "      <td>29.9</td>\n",
       "      <td>68.7</td>\n",
       "    </tr>\n",
       "    <tr>\n",
       "      <th>...</th>\n",
       "      <td>...</td>\n",
       "      <td>...</td>\n",
       "      <td>...</td>\n",
       "      <td>...</td>\n",
       "      <td>...</td>\n",
       "      <td>...</td>\n",
       "      <td>...</td>\n",
       "      <td>...</td>\n",
       "      <td>...</td>\n",
       "      <td>...</td>\n",
       "      <td>...</td>\n",
       "      <td>...</td>\n",
       "      <td>...</td>\n",
       "      <td>...</td>\n",
       "    </tr>\n",
       "    <tr>\n",
       "      <th>610</th>\n",
       "      <td>611</td>\n",
       "      <td>3=Cirrhosis</td>\n",
       "      <td>62</td>\n",
       "      <td>f</td>\n",
       "      <td>32.0</td>\n",
       "      <td>416.6</td>\n",
       "      <td>5.9</td>\n",
       "      <td>110.3</td>\n",
       "      <td>50.0</td>\n",
       "      <td>5.57</td>\n",
       "      <td>6.30</td>\n",
       "      <td>55.7</td>\n",
       "      <td>650.9</td>\n",
       "      <td>68.5</td>\n",
       "    </tr>\n",
       "    <tr>\n",
       "      <th>611</th>\n",
       "      <td>612</td>\n",
       "      <td>3=Cirrhosis</td>\n",
       "      <td>64</td>\n",
       "      <td>f</td>\n",
       "      <td>24.0</td>\n",
       "      <td>102.8</td>\n",
       "      <td>2.9</td>\n",
       "      <td>44.4</td>\n",
       "      <td>20.0</td>\n",
       "      <td>1.54</td>\n",
       "      <td>3.02</td>\n",
       "      <td>63.0</td>\n",
       "      <td>35.9</td>\n",
       "      <td>71.3</td>\n",
       "    </tr>\n",
       "    <tr>\n",
       "      <th>612</th>\n",
       "      <td>613</td>\n",
       "      <td>3=Cirrhosis</td>\n",
       "      <td>64</td>\n",
       "      <td>f</td>\n",
       "      <td>29.0</td>\n",
       "      <td>87.3</td>\n",
       "      <td>3.5</td>\n",
       "      <td>99.0</td>\n",
       "      <td>48.0</td>\n",
       "      <td>1.66</td>\n",
       "      <td>3.63</td>\n",
       "      <td>66.7</td>\n",
       "      <td>64.2</td>\n",
       "      <td>82.0</td>\n",
       "    </tr>\n",
       "    <tr>\n",
       "      <th>613</th>\n",
       "      <td>614</td>\n",
       "      <td>3=Cirrhosis</td>\n",
       "      <td>46</td>\n",
       "      <td>f</td>\n",
       "      <td>33.0</td>\n",
       "      <td>NaN</td>\n",
       "      <td>39.0</td>\n",
       "      <td>62.0</td>\n",
       "      <td>20.0</td>\n",
       "      <td>3.56</td>\n",
       "      <td>4.20</td>\n",
       "      <td>52.0</td>\n",
       "      <td>50.0</td>\n",
       "      <td>71.0</td>\n",
       "    </tr>\n",
       "    <tr>\n",
       "      <th>614</th>\n",
       "      <td>615</td>\n",
       "      <td>3=Cirrhosis</td>\n",
       "      <td>59</td>\n",
       "      <td>f</td>\n",
       "      <td>36.0</td>\n",
       "      <td>NaN</td>\n",
       "      <td>100.0</td>\n",
       "      <td>80.0</td>\n",
       "      <td>12.0</td>\n",
       "      <td>9.07</td>\n",
       "      <td>5.30</td>\n",
       "      <td>67.0</td>\n",
       "      <td>34.0</td>\n",
       "      <td>68.0</td>\n",
       "    </tr>\n",
       "  </tbody>\n",
       "</table>\n",
       "<p>615 rows × 14 columns</p>\n",
       "</div>"
      ],
      "text/plain": [
       "     Unnamed: 0       Category  Age Sex   ALB    ALP    ALT    AST   BIL  \\\n",
       "0             1  0=Blood Donor   32   m  38.5   52.5    7.7   22.1   7.5   \n",
       "1             2  0=Blood Donor   32   m  38.5   70.3   18.0   24.7   3.9   \n",
       "2             3  0=Blood Donor   32   m  46.9   74.7   36.2   52.6   6.1   \n",
       "3             4  0=Blood Donor   32   m  43.2   52.0   30.6   22.6  18.9   \n",
       "4             5  0=Blood Donor   32   m  39.2   74.1   32.6   24.8   9.6   \n",
       "..          ...            ...  ...  ..   ...    ...    ...    ...   ...   \n",
       "610         611    3=Cirrhosis   62   f  32.0  416.6    5.9  110.3  50.0   \n",
       "611         612    3=Cirrhosis   64   f  24.0  102.8    2.9   44.4  20.0   \n",
       "612         613    3=Cirrhosis   64   f  29.0   87.3    3.5   99.0  48.0   \n",
       "613         614    3=Cirrhosis   46   f  33.0    NaN   39.0   62.0  20.0   \n",
       "614         615    3=Cirrhosis   59   f  36.0    NaN  100.0   80.0  12.0   \n",
       "\n",
       "       CHE  CHOL   CREA    GGT  PROT  \n",
       "0     6.93  3.23  106.0   12.1  69.0  \n",
       "1    11.17  4.80   74.0   15.6  76.5  \n",
       "2     8.84  5.20   86.0   33.2  79.3  \n",
       "3     7.33  4.74   80.0   33.8  75.7  \n",
       "4     9.15  4.32   76.0   29.9  68.7  \n",
       "..     ...   ...    ...    ...   ...  \n",
       "610   5.57  6.30   55.7  650.9  68.5  \n",
       "611   1.54  3.02   63.0   35.9  71.3  \n",
       "612   1.66  3.63   66.7   64.2  82.0  \n",
       "613   3.56  4.20   52.0   50.0  71.0  \n",
       "614   9.07  5.30   67.0   34.0  68.0  \n",
       "\n",
       "[615 rows x 14 columns]"
      ]
     },
     "execution_count": 35,
     "metadata": {},
     "output_type": "execute_result"
    }
   ],
   "source": [
    "data"
   ]
  },
  {
   "cell_type": "code",
   "execution_count": 36,
   "id": "04e93e89",
   "metadata": {},
   "outputs": [
    {
     "name": "stdout",
     "output_type": "stream",
     "text": [
      "<class 'pandas.core.frame.DataFrame'>\n",
      "RangeIndex: 615 entries, 0 to 614\n",
      "Data columns (total 14 columns):\n",
      " #   Column      Non-Null Count  Dtype  \n",
      "---  ------      --------------  -----  \n",
      " 0   Unnamed: 0  615 non-null    int64  \n",
      " 1   Category    615 non-null    float64\n",
      " 2   Age         615 non-null    int64  \n",
      " 3   Sex         615 non-null    float64\n",
      " 4   ALB         614 non-null    float64\n",
      " 5   ALP         597 non-null    float64\n",
      " 6   ALT         614 non-null    float64\n",
      " 7   AST         615 non-null    float64\n",
      " 8   BIL         615 non-null    float64\n",
      " 9   CHE         615 non-null    float64\n",
      " 10  CHOL        605 non-null    float64\n",
      " 11  CREA        615 non-null    float64\n",
      " 12  GGT         615 non-null    float64\n",
      " 13  PROT        614 non-null    float64\n",
      "dtypes: float64(12), int64(2)\n",
      "memory usage: 67.4 KB\n"
     ]
    }
   ],
   "source": [
    "#To-Do  Start investigating the data types and correcting that \n",
    "# Provide explanation about each step in Markdown cells \n",
    "#Change columns type to numeric ones\n",
    "#Add a fuction to convert category object to a numeric value by getting the first elemnt of the object\n",
    "def convert_category(value):\n",
    "    if value[0] == '0' and value[1] == 's':\n",
    "        value = 1\n",
    "    elif value[0] == '0':\n",
    "        value = 0\n",
    "    else:\n",
    "        value = int(value[0]) + 1\n",
    "    return float(value)\n",
    "data['Category'] = data['Category'].apply(convert_category)\n",
    "#Add a function to convert sex object to numeric values, 0 for male and 1 for female\n",
    "def convert_sex(value):\n",
    "    if value == 'm':\n",
    "        value = '0'\n",
    "    else:\n",
    "        value = '1'\n",
    "    return float(value)\n",
    "data['Sex'] = data['Sex'].apply(convert_sex)\n",
    "data.info()"
   ]
  },
  {
   "cell_type": "markdown",
   "id": "801d1a20",
   "metadata": {},
   "source": [
    "> Data types are all numeric Now ! Next we need to deal with missing values for the feature columns "
   ]
  },
  {
   "cell_type": "code",
   "execution_count": 37,
   "id": "8a9401d4",
   "metadata": {},
   "outputs": [],
   "source": [
    "import seaborn as sns"
   ]
  },
  {
   "cell_type": "markdown",
   "id": "0524721b",
   "metadata": {
    "scrolled": true
   },
   "source": [
    "#To-Do list all the columns that contain missing values along with their counts "
   ]
  },
  {
   "cell_type": "code",
   "execution_count": 38,
   "id": "775f0b44",
   "metadata": {},
   "outputs": [
    {
     "name": "stdout",
     "output_type": "stream",
     "text": [
      "Unnamed: 0     0\n",
      "Category       0\n",
      "Age            0\n",
      "Sex            0\n",
      "ALB            1\n",
      "ALP           18\n",
      "ALT            1\n",
      "AST            0\n",
      "BIL            0\n",
      "CHE            0\n",
      "CHOL          10\n",
      "CREA           0\n",
      "GGT            0\n",
      "PROT           1\n",
      "dtype: int64\n"
     ]
    }
   ],
   "source": [
    "# To-Do Start providing solutions for each column that has missing data \n",
    "# Treat each case seperately \n",
    "# Hint : no data row should be deleted \n",
    "# Provide evidence that you filled those missing values after each step \n",
    "#Check Nan values for each colum\n",
    "print(data.isna().sum())"
   ]
  },
  {
   "cell_type": "code",
   "execution_count": 39,
   "id": "114b5665",
   "metadata": {},
   "outputs": [
    {
     "name": "stderr",
     "output_type": "stream",
     "text": [
      "/home/billel/jupyter/jupyterenv/lib/python3.8/site-packages/seaborn/_decorators.py:36: FutureWarning: Pass the following variable as a keyword arg: x. From version 0.12, the only valid positional argument will be `data`, and passing other arguments without an explicit keyword will result in an error or misinterpretation.\n",
      "  warnings.warn(\n",
      "/home/billel/jupyter/jupyterenv/lib/python3.8/site-packages/seaborn/distributions.py:2619: FutureWarning: `distplot` is a deprecated function and will be removed in a future version. Please adapt your code to use either `displot` (a figure-level function with similar flexibility) or `histplot` (an axes-level function for histograms).\n",
      "  warnings.warn(msg, FutureWarning)\n"
     ]
    },
    {
     "data": {
      "text/plain": [
       "<AxesSubplot:xlabel='ALB', ylabel='Density'>"
      ]
     },
     "execution_count": 39,
     "metadata": {},
     "output_type": "execute_result"
    },
    {
     "data": {
      "image/png": "[encoded data removed]",
      "text/plain": [
       "<Figure size 432x288 with 1 Axes>"
      ]
     },
     "metadata": {
      "needs_background": "light"
     },
     "output_type": "display_data"
    }
   ],
   "source": [
    "# Check distribution of each variable with missing values\n",
    "# Plot - ALB\n",
    "sns.boxplot(data['ALB'])\n",
    "sns.distplot(data['ALB'])"
   ]
  },
  {
   "cell_type": "code",
   "execution_count": 40,
   "id": "31bf097e",
   "metadata": {},
   "outputs": [
    {
     "name": "stderr",
     "output_type": "stream",
     "text": [
      "/home/billel/jupyter/jupyterenv/lib/python3.8/site-packages/seaborn/_decorators.py:36: FutureWarning: Pass the following variable as a keyword arg: x. From version 0.12, the only valid positional argument will be `data`, and passing other arguments without an explicit keyword will result in an error or misinterpretation.\n",
      "  warnings.warn(\n",
      "/home/billel/jupyter/jupyterenv/lib/python3.8/site-packages/seaborn/distributions.py:2619: FutureWarning: `distplot` is a deprecated function and will be removed in a future version. Please adapt your code to use either `displot` (a figure-level function with similar flexibility) or `histplot` (an axes-level function for histograms).\n",
      "  warnings.warn(msg, FutureWarning)\n"
     ]
    },
    {
     "data": {
      "text/plain": [
       "<AxesSubplot:xlabel='ALP', ylabel='Density'>"
      ]
     },
     "execution_count": 40,
     "metadata": {},
     "output_type": "execute_result"
    },
    {
     "data": {
      "image/png": "[encoded data removed]",
      "text/plain": [
       "<Figure size 432x288 with 1 Axes>"
      ]
     },
     "metadata": {
      "needs_background": "light"
     },
     "output_type": "display_data"
    }
   ],
   "source": [
    "# Plot - ALP\n",
    "sns.boxplot(data['ALP'])\n",
    "sns.distplot(data['ALP'])"
   ]
  },
  {
   "cell_type": "code",
   "execution_count": 41,
   "id": "abe74534",
   "metadata": {},
   "outputs": [
    {
     "name": "stderr",
     "output_type": "stream",
     "text": [
      "/home/billel/jupyter/jupyterenv/lib/python3.8/site-packages/seaborn/_decorators.py:36: FutureWarning: Pass the following variable as a keyword arg: x. From version 0.12, the only valid positional argument will be `data`, and passing other arguments without an explicit keyword will result in an error or misinterpretation.\n",
      "  warnings.warn(\n",
      "/home/billel/jupyter/jupyterenv/lib/python3.8/site-packages/seaborn/distributions.py:2619: FutureWarning: `distplot` is a deprecated function and will be removed in a future version. Please adapt your code to use either `displot` (a figure-level function with similar flexibility) or `histplot` (an axes-level function for histograms).\n",
      "  warnings.warn(msg, FutureWarning)\n"
     ]
    },
    {
     "data": {
      "text/plain": [
       "<AxesSubplot:xlabel='ALT', ylabel='Density'>"
      ]
     },
     "execution_count": 41,
     "metadata": {},
     "output_type": "execute_result"
    },
    {
     "data": {
      "image/png": "[encoded data removed]",
      "text/plain": [
       "<Figure size 432x288 with 1 Axes>"
      ]
     },
     "metadata": {
      "needs_background": "light"
     },
     "output_type": "display_data"
    }
   ],
   "source": [
    "# Plot - ALT\n",
    "sns.boxplot(data['ALT'])\n",
    "sns.distplot(data['ALT'])"
   ]
  },
  {
   "cell_type": "code",
   "execution_count": 42,
   "id": "1ddd1037",
   "metadata": {},
   "outputs": [
    {
     "name": "stderr",
     "output_type": "stream",
     "text": [
      "/home/billel/jupyter/jupyterenv/lib/python3.8/site-packages/seaborn/_decorators.py:36: FutureWarning: Pass the following variable as a keyword arg: x. From version 0.12, the only valid positional argument will be `data`, and passing other arguments without an explicit keyword will result in an error or misinterpretation.\n",
      "  warnings.warn(\n",
      "/home/billel/jupyter/jupyterenv/lib/python3.8/site-packages/seaborn/distributions.py:2619: FutureWarning: `distplot` is a deprecated function and will be removed in a future version. Please adapt your code to use either `displot` (a figure-level function with similar flexibility) or `histplot` (an axes-level function for histograms).\n",
      "  warnings.warn(msg, FutureWarning)\n"
     ]
    },
    {
     "data": {
      "text/plain": [
       "<AxesSubplot:xlabel='CHOL', ylabel='Density'>"
      ]
     },
     "execution_count": 42,
     "metadata": {},
     "output_type": "execute_result"
    },
    {
     "data": {
      "image/png": "[encoded data removed]",
      "text/plain": [
       "<Figure size 432x288 with 1 Axes>"
      ]
     },
     "metadata": {
      "needs_background": "light"
     },
     "output_type": "display_data"
    }
   ],
   "source": [
    "# Plot - CHOL\n",
    "sns.boxplot(data['CHOL'])\n",
    "sns.distplot(data['CHOL'])"
   ]
  },
  {
   "cell_type": "code",
   "execution_count": 43,
   "id": "bc8efbf4",
   "metadata": {},
   "outputs": [
    {
     "name": "stderr",
     "output_type": "stream",
     "text": [
      "/home/billel/jupyter/jupyterenv/lib/python3.8/site-packages/seaborn/_decorators.py:36: FutureWarning: Pass the following variable as a keyword arg: x. From version 0.12, the only valid positional argument will be `data`, and passing other arguments without an explicit keyword will result in an error or misinterpretation.\n",
      "  warnings.warn(\n",
      "/home/billel/jupyter/jupyterenv/lib/python3.8/site-packages/seaborn/distributions.py:2619: FutureWarning: `distplot` is a deprecated function and will be removed in a future version. Please adapt your code to use either `displot` (a figure-level function with similar flexibility) or `histplot` (an axes-level function for histograms).\n",
      "  warnings.warn(msg, FutureWarning)\n"
     ]
    },
    {
     "data": {
      "text/plain": [
       "<AxesSubplot:xlabel='PROT', ylabel='Density'>"
      ]
     },
     "execution_count": 43,
     "metadata": {},
     "output_type": "execute_result"
    },
    {
     "data": {
      "image/png": "[encoded data removed]",
      "text/plain": [
       "<Figure size 432x288 with 1 Axes>"
      ]
     },
     "metadata": {
      "needs_background": "light"
     },
     "output_type": "display_data"
    }
   ],
   "source": [
    "# Plot - PROT\n",
    "sns.boxplot(data['PROT'])\n",
    "sns.distplot(data['PROT'])"
   ]
  },
  {
   "cell_type": "code",
   "execution_count": 44,
   "id": "695aeb43",
   "metadata": {},
   "outputs": [
    {
     "name": "stdout",
     "output_type": "stream",
     "text": [
      "Unnamed: 0    0\n",
      "Category      0\n",
      "Age           0\n",
      "Sex           0\n",
      "ALB           0\n",
      "ALP           0\n",
      "ALT           0\n",
      "AST           0\n",
      "BIL           0\n",
      "CHE           0\n",
      "CHOL          0\n",
      "CREA          0\n",
      "GGT           0\n",
      "PROT          0\n",
      "dtype: int64\n"
     ]
    }
   ],
   "source": [
    "#Replace NaN values with with respective mean or median\n",
    "data.fillna(data[\"ALB\"].median(), inplace=True)\n",
    "data.fillna(data[\"ALP\"].mean(), inplace=True)\n",
    "data.fillna(data[\"ALT\"].median(), inplace=True)\n",
    "data.fillna(data[\"CHOL\"].mean(), inplace=True)\n",
    "data.fillna(data[\"PROT\"].median(), inplace=True)\n",
    "print(data.isna().sum())"
   ]
  },
  {
   "cell_type": "markdown",
   "id": "9dbb1158",
   "metadata": {},
   "source": [
    "> We have no more missing data\n",
    "As an optional thing we can also rename the first column as 'index' or \"ID\" instead of Unnamed "
   ]
  },
  {
   "cell_type": "code",
   "execution_count": 45,
   "id": "bd552319",
   "metadata": {},
   "outputs": [
    {
     "data": {
      "text/plain": [
       "Index(['Unnamed: 0', 'Category', 'Age', 'Sex', 'ALB', 'ALP', 'ALT', 'AST',\n",
       "       'BIL', 'CHE', 'CHOL', 'CREA', 'GGT', 'PROT'],\n",
       "      dtype='object')"
      ]
     },
     "execution_count": 45,
     "metadata": {},
     "output_type": "execute_result"
    }
   ],
   "source": [
    "data.columns"
   ]
  },
  {
   "cell_type": "code",
   "execution_count": 46,
   "id": "255cb6a7",
   "metadata": {},
   "outputs": [],
   "source": [
    "data.rename(columns={'Unnamed: 0': \"ID\"}, inplace=True)"
   ]
  },
  {
   "cell_type": "code",
   "execution_count": 47,
   "id": "f63998c3",
   "metadata": {},
   "outputs": [
    {
     "data": {
      "text/html": [
       "<div>\n",
       "<style scoped>\n",
       "    .dataframe tbody tr th:only-of-type {\n",
       "        vertical-align: middle;\n",
       "    }\n",
       "\n",
       "    .dataframe tbody tr th {\n",
       "        vertical-align: top;\n",
       "    }\n",
       "\n",
       "    .dataframe thead th {\n",
       "        text-align: right;\n",
       "    }\n",
       "</style>\n",
       "<table border=\"1\" class=\"dataframe\">\n",
       "  <thead>\n",
       "    <tr style=\"text-align: right;\">\n",
       "      <th></th>\n",
       "      <th>ID</th>\n",
       "      <th>Category</th>\n",
       "      <th>Age</th>\n",
       "      <th>Sex</th>\n",
       "      <th>ALB</th>\n",
       "      <th>ALP</th>\n",
       "      <th>ALT</th>\n",
       "      <th>AST</th>\n",
       "      <th>BIL</th>\n",
       "      <th>CHE</th>\n",
       "      <th>CHOL</th>\n",
       "      <th>CREA</th>\n",
       "      <th>GGT</th>\n",
       "      <th>PROT</th>\n",
       "    </tr>\n",
       "  </thead>\n",
       "  <tbody>\n",
       "    <tr>\n",
       "      <th>0</th>\n",
       "      <td>1</td>\n",
       "      <td>0.0</td>\n",
       "      <td>32</td>\n",
       "      <td>0.0</td>\n",
       "      <td>38.5</td>\n",
       "      <td>52.50</td>\n",
       "      <td>7.7</td>\n",
       "      <td>22.1</td>\n",
       "      <td>7.5</td>\n",
       "      <td>6.93</td>\n",
       "      <td>3.23</td>\n",
       "      <td>106.0</td>\n",
       "      <td>12.1</td>\n",
       "      <td>69.0</td>\n",
       "    </tr>\n",
       "    <tr>\n",
       "      <th>1</th>\n",
       "      <td>2</td>\n",
       "      <td>0.0</td>\n",
       "      <td>32</td>\n",
       "      <td>0.0</td>\n",
       "      <td>38.5</td>\n",
       "      <td>70.30</td>\n",
       "      <td>18.0</td>\n",
       "      <td>24.7</td>\n",
       "      <td>3.9</td>\n",
       "      <td>11.17</td>\n",
       "      <td>4.80</td>\n",
       "      <td>74.0</td>\n",
       "      <td>15.6</td>\n",
       "      <td>76.5</td>\n",
       "    </tr>\n",
       "    <tr>\n",
       "      <th>2</th>\n",
       "      <td>3</td>\n",
       "      <td>0.0</td>\n",
       "      <td>32</td>\n",
       "      <td>0.0</td>\n",
       "      <td>46.9</td>\n",
       "      <td>74.70</td>\n",
       "      <td>36.2</td>\n",
       "      <td>52.6</td>\n",
       "      <td>6.1</td>\n",
       "      <td>8.84</td>\n",
       "      <td>5.20</td>\n",
       "      <td>86.0</td>\n",
       "      <td>33.2</td>\n",
       "      <td>79.3</td>\n",
       "    </tr>\n",
       "    <tr>\n",
       "      <th>3</th>\n",
       "      <td>4</td>\n",
       "      <td>0.0</td>\n",
       "      <td>32</td>\n",
       "      <td>0.0</td>\n",
       "      <td>43.2</td>\n",
       "      <td>52.00</td>\n",
       "      <td>30.6</td>\n",
       "      <td>22.6</td>\n",
       "      <td>18.9</td>\n",
       "      <td>7.33</td>\n",
       "      <td>4.74</td>\n",
       "      <td>80.0</td>\n",
       "      <td>33.8</td>\n",
       "      <td>75.7</td>\n",
       "    </tr>\n",
       "    <tr>\n",
       "      <th>4</th>\n",
       "      <td>5</td>\n",
       "      <td>0.0</td>\n",
       "      <td>32</td>\n",
       "      <td>0.0</td>\n",
       "      <td>39.2</td>\n",
       "      <td>74.10</td>\n",
       "      <td>32.6</td>\n",
       "      <td>24.8</td>\n",
       "      <td>9.6</td>\n",
       "      <td>9.15</td>\n",
       "      <td>4.32</td>\n",
       "      <td>76.0</td>\n",
       "      <td>29.9</td>\n",
       "      <td>68.7</td>\n",
       "    </tr>\n",
       "    <tr>\n",
       "      <th>...</th>\n",
       "      <td>...</td>\n",
       "      <td>...</td>\n",
       "      <td>...</td>\n",
       "      <td>...</td>\n",
       "      <td>...</td>\n",
       "      <td>...</td>\n",
       "      <td>...</td>\n",
       "      <td>...</td>\n",
       "      <td>...</td>\n",
       "      <td>...</td>\n",
       "      <td>...</td>\n",
       "      <td>...</td>\n",
       "      <td>...</td>\n",
       "      <td>...</td>\n",
       "    </tr>\n",
       "    <tr>\n",
       "      <th>610</th>\n",
       "      <td>611</td>\n",
       "      <td>4.0</td>\n",
       "      <td>62</td>\n",
       "      <td>1.0</td>\n",
       "      <td>32.0</td>\n",
       "      <td>416.60</td>\n",
       "      <td>5.9</td>\n",
       "      <td>110.3</td>\n",
       "      <td>50.0</td>\n",
       "      <td>5.57</td>\n",
       "      <td>6.30</td>\n",
       "      <td>55.7</td>\n",
       "      <td>650.9</td>\n",
       "      <td>68.5</td>\n",
       "    </tr>\n",
       "    <tr>\n",
       "      <th>611</th>\n",
       "      <td>612</td>\n",
       "      <td>4.0</td>\n",
       "      <td>64</td>\n",
       "      <td>1.0</td>\n",
       "      <td>24.0</td>\n",
       "      <td>102.80</td>\n",
       "      <td>2.9</td>\n",
       "      <td>44.4</td>\n",
       "      <td>20.0</td>\n",
       "      <td>1.54</td>\n",
       "      <td>3.02</td>\n",
       "      <td>63.0</td>\n",
       "      <td>35.9</td>\n",
       "      <td>71.3</td>\n",
       "    </tr>\n",
       "    <tr>\n",
       "      <th>612</th>\n",
       "      <td>613</td>\n",
       "      <td>4.0</td>\n",
       "      <td>64</td>\n",
       "      <td>1.0</td>\n",
       "      <td>29.0</td>\n",
       "      <td>87.30</td>\n",
       "      <td>3.5</td>\n",
       "      <td>99.0</td>\n",
       "      <td>48.0</td>\n",
       "      <td>1.66</td>\n",
       "      <td>3.63</td>\n",
       "      <td>66.7</td>\n",
       "      <td>64.2</td>\n",
       "      <td>82.0</td>\n",
       "    </tr>\n",
       "    <tr>\n",
       "      <th>613</th>\n",
       "      <td>614</td>\n",
       "      <td>4.0</td>\n",
       "      <td>46</td>\n",
       "      <td>1.0</td>\n",
       "      <td>33.0</td>\n",
       "      <td>41.95</td>\n",
       "      <td>39.0</td>\n",
       "      <td>62.0</td>\n",
       "      <td>20.0</td>\n",
       "      <td>3.56</td>\n",
       "      <td>4.20</td>\n",
       "      <td>52.0</td>\n",
       "      <td>50.0</td>\n",
       "      <td>71.0</td>\n",
       "    </tr>\n",
       "    <tr>\n",
       "      <th>614</th>\n",
       "      <td>615</td>\n",
       "      <td>4.0</td>\n",
       "      <td>59</td>\n",
       "      <td>1.0</td>\n",
       "      <td>36.0</td>\n",
       "      <td>41.95</td>\n",
       "      <td>100.0</td>\n",
       "      <td>80.0</td>\n",
       "      <td>12.0</td>\n",
       "      <td>9.07</td>\n",
       "      <td>5.30</td>\n",
       "      <td>67.0</td>\n",
       "      <td>34.0</td>\n",
       "      <td>68.0</td>\n",
       "    </tr>\n",
       "  </tbody>\n",
       "</table>\n",
       "<p>615 rows × 14 columns</p>\n",
       "</div>"
      ],
      "text/plain": [
       "      ID  Category  Age  Sex   ALB     ALP    ALT    AST   BIL    CHE  CHOL  \\\n",
       "0      1       0.0   32  0.0  38.5   52.50    7.7   22.1   7.5   6.93  3.23   \n",
       "1      2       0.0   32  0.0  38.5   70.30   18.0   24.7   3.9  11.17  4.80   \n",
       "2      3       0.0   32  0.0  46.9   74.70   36.2   52.6   6.1   8.84  5.20   \n",
       "3      4       0.0   32  0.0  43.2   52.00   30.6   22.6  18.9   7.33  4.74   \n",
       "4      5       0.0   32  0.0  39.2   74.10   32.6   24.8   9.6   9.15  4.32   \n",
       "..   ...       ...  ...  ...   ...     ...    ...    ...   ...    ...   ...   \n",
       "610  611       4.0   62  1.0  32.0  416.60    5.9  110.3  50.0   5.57  6.30   \n",
       "611  612       4.0   64  1.0  24.0  102.80    2.9   44.4  20.0   1.54  3.02   \n",
       "612  613       4.0   64  1.0  29.0   87.30    3.5   99.0  48.0   1.66  3.63   \n",
       "613  614       4.0   46  1.0  33.0   41.95   39.0   62.0  20.0   3.56  4.20   \n",
       "614  615       4.0   59  1.0  36.0   41.95  100.0   80.0  12.0   9.07  5.30   \n",
       "\n",
       "      CREA    GGT  PROT  \n",
       "0    106.0   12.1  69.0  \n",
       "1     74.0   15.6  76.5  \n",
       "2     86.0   33.2  79.3  \n",
       "3     80.0   33.8  75.7  \n",
       "4     76.0   29.9  68.7  \n",
       "..     ...    ...   ...  \n",
       "610   55.7  650.9  68.5  \n",
       "611   63.0   35.9  71.3  \n",
       "612   66.7   64.2  82.0  \n",
       "613   52.0   50.0  71.0  \n",
       "614   67.0   34.0  68.0  \n",
       "\n",
       "[615 rows x 14 columns]"
      ]
     },
     "execution_count": 47,
     "metadata": {},
     "output_type": "execute_result"
    }
   ],
   "source": [
    "data"
   ]
  },
  {
   "cell_type": "markdown",
   "id": "380f2464",
   "metadata": {},
   "source": [
    "### 6. Save the clean dataset :"
   ]
  },
  {
   "cell_type": "code",
   "execution_count": 48,
   "id": "5b7d623f",
   "metadata": {},
   "outputs": [],
   "source": [
    "# Don't forget to drop the index \n",
    "data.to_csv('clean_dataset.csv', index=False)"
   ]
  },
  {
   "cell_type": "code",
   "execution_count": null,
   "id": "b9c9af0b",
   "metadata": {},
   "outputs": [],
   "source": []
  }
 ],
 "metadata": {
  "kernelspec": {
   "display_name": "Python 3",
   "language": "python",
   "name": "python3"
  },
  "language_info": {
   "codemirror_mode": {
    "name": "ipython",
    "version": 3
   },
   "file_extension": ".py",
   "mimetype": "text/x-python",
   "name": "python",
   "nbconvert_exporter": "python",
   "pygments_lexer": "ipython3",
   "version": "3.8.10"
  }
 },
 "nbformat": 4,
 "nbformat_minor": 5
}
